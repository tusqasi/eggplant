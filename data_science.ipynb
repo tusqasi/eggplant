{
 "cells": [
  {
   "cell_type": "markdown",
   "id": "226c7276-a2f8-4ad7-a847-fb4095139210",
   "metadata": {},
   "source": [
    "# Given a Now Playing song, History of the all Users listened give a suggestion for the next song to be played\n",
    "TODO:\n",
    "- [ ] Have a now playing song\n",
    "- [x] Have a history of current user\n",
    "- [ ] Have a history of all other users\n",
    "- [ ] Given suggestion based on these\n"
   ]
  },
  {
   "cell_type": "code",
   "execution_count": 48,
   "id": "2baa002e-0c2c-471d-803f-be632c183d78",
   "metadata": {},
   "outputs": [],
   "source": [
    "import numpy as np\n",
    "import pandas as pd\n",
    "from matplotlib import pyplot as plt\n",
    "import random\n",
    "from scipy.stats import truncnorm\n",
    "from scipy import stats"
   ]
  },
  {
   "cell_type": "code",
   "execution_count": 57,
   "id": "c084567f-b5bd-4160-8f0a-273101642f75",
   "metadata": {},
   "outputs": [],
   "source": [
    "SECONDS_IN_A_MINTUE = 60\n",
    "genres  = [\n",
    "    \"happy\",\n",
    "    \"groovy\",\n",
    "    \"slow\",\n",
    "    \"instrumental\",\n",
    "    \"dramatic\",\n",
    "    \"energetic\",\n",
    "    \"melancholic\", \n",
    "]\n",
    "MIN_SONGS_IN_HISTORY = 100\n",
    "MAX_SONGS_IN_HISTORY = 1000\n",
    "MU_SONGS_IN_HISTORY = 300\n",
    "SIGMA_SONGS_IN_HISTORY = 200\n",
    "random.seed(0)\n",
    "np.random.seed(0)"
   ]
  },
  {
   "cell_type": "markdown",
   "id": "190971a0-5511-4dbb-a794-ddb9783d5e48",
   "metadata": {},
   "source": [
    "## Generate data\n",
    "\n"
   ]
  },
  {
   "cell_type": "code",
   "execution_count": 52,
   "id": "580f95b1-6be1-4ecc-bd0c-5136b6069e80",
   "metadata": {},
   "outputs": [],
   "source": [
    "songs_df = pd.read_csv(\"./public_songs_export_2023-10-12_213331.csv\")\n",
    "n_songs,_  = songs_df.shape\n",
    "\n",
    "songs_df.rename(columns={'uploaded_user_id':'genre'},inplace= True)\n",
    "songs_df.rename(columns={'song_path':'name'},inplace= True)\n",
    "\n",
    "songs_df['length'] = [random.randint(120, SECONDS_IN_A_MINTUE*5) for _ in range(n_songs)]\n",
    "songs_df['genre'] = [genres.index( random.choice(genres)) for _ in range(n_songs)]\n",
    "\n",
    "users_df = pd.read_csv(\"./public_users_export_2023-10-12_212940.csv\")\n",
    "n_users,_ = users_df.shape\n",
    "\n",
    "\n",
    "\n",
    "mu_length = 400  # Mean length of history\n",
    "sigma_length = 100  # Standard deviation of history lengths\n",
    "min_length = 100  # Minimum history length\n",
    "max_length = 1000  # Maximum history length\n",
    "\n",
    "# Define parameters for values inside inner lists\n",
    "min_value = 0  # Minimum value for song_id\n",
    "max_value = n_songs # Maximum value for song_id\n",
    "\n",
    "num_samples = n_users  # Number of histories to generate\n",
    "\n",
    "# Generate normally distributed lengths for history\n",
    "list_lengths = np.random.normal(mu_length, sigma_length, num_samples)\n",
    "list_lengths = np.round(np.clip(list_lengths, min_length, max_length)).astype(int)\n",
    "\n",
    "# Generate the list of lists\n",
    "list_of_lists = []\n",
    "for length in list_lengths:\n",
    "    inner_list = np.int_(np.array([random.uniform(min_value, max_value) for _ in range(length)]))\n",
    "    list_of_lists.append(inner_list)\n",
    "\n",
    "\n",
    "users_df['history'] = list_of_lists"
   ]
  },
  {
   "cell_type": "code",
   "execution_count": 105,
   "id": "0bf05bdb-c54b-497a-9eea-9e71b4b5fd98",
   "metadata": {},
   "outputs": [
    {
     "data": {
      "text/html": [
       "<div>\n",
       "<style scoped>\n",
       "    .dataframe tbody tr th:only-of-type {\n",
       "        vertical-align: middle;\n",
       "    }\n",
       "\n",
       "    .dataframe tbody tr th {\n",
       "        vertical-align: top;\n",
       "    }\n",
       "\n",
       "    .dataframe thead th {\n",
       "        text-align: right;\n",
       "    }\n",
       "</style>\n",
       "<table border=\"1\" class=\"dataframe\">\n",
       "  <thead>\n",
       "    <tr style=\"text-align: right;\">\n",
       "      <th></th>\n",
       "      <th>song_id</th>\n",
       "      <th>name</th>\n",
       "      <th>genre</th>\n",
       "      <th>length</th>\n",
       "    </tr>\n",
       "  </thead>\n",
       "  <tbody>\n",
       "    <tr>\n",
       "      <th>0</th>\n",
       "      <td>1</td>\n",
       "      <td>Daft Punk - Instant Crush</td>\n",
       "      <td>3</td>\n",
       "      <td>158</td>\n",
       "    </tr>\n",
       "    <tr>\n",
       "      <th>1</th>\n",
       "      <td>2</td>\n",
       "      <td>The Weeknd - Take My Breath</td>\n",
       "      <td>5</td>\n",
       "      <td>186</td>\n",
       "    </tr>\n",
       "  </tbody>\n",
       "</table>\n",
       "</div>"
      ],
      "text/plain": [
       "   song_id                          name  genre  length\n",
       "0        1    Daft Punk - Instant Crush       3     158\n",
       "1        2  The Weeknd - Take My Breath       5     186"
      ]
     },
     "execution_count": 105,
     "metadata": {},
     "output_type": "execute_result"
    }
   ],
   "source": [
    "songs_df.head(2)"
   ]
  },
  {
   "cell_type": "code",
   "execution_count": 104,
   "id": "ea36f7be-9222-4512-9c40-d0fa3a848a95",
   "metadata": {},
   "outputs": [
    {
     "data": {
      "text/html": [
       "<div>\n",
       "<style scoped>\n",
       "    .dataframe tbody tr th:only-of-type {\n",
       "        vertical-align: middle;\n",
       "    }\n",
       "\n",
       "    .dataframe tbody tr th {\n",
       "        vertical-align: top;\n",
       "    }\n",
       "\n",
       "    .dataframe thead th {\n",
       "        text-align: right;\n",
       "    }\n",
       "</style>\n",
       "<table border=\"1\" class=\"dataframe\">\n",
       "  <thead>\n",
       "    <tr style=\"text-align: right;\">\n",
       "      <th></th>\n",
       "      <th>user_id</th>\n",
       "      <th>username</th>\n",
       "      <th>history</th>\n",
       "    </tr>\n",
       "  </thead>\n",
       "  <tbody>\n",
       "    <tr>\n",
       "      <th>0</th>\n",
       "      <td>1</td>\n",
       "      <td>Norma Fisher</td>\n",
       "      <td>[0, 61, 23, 8, 66, 64, 50, 47, 81, 95, 79, 78,...</td>\n",
       "    </tr>\n",
       "    <tr>\n",
       "      <th>1</th>\n",
       "      <td>2</td>\n",
       "      <td>Jorge Sullivan</td>\n",
       "      <td>[90, 31, 72, 17, 99, 97, 21, 102, 73, 48, 88, ...</td>\n",
       "    </tr>\n",
       "  </tbody>\n",
       "</table>\n",
       "</div>"
      ],
      "text/plain": [
       "   user_id        username                                            history\n",
       "0        1    Norma Fisher  [0, 61, 23, 8, 66, 64, 50, 47, 81, 95, 79, 78,...\n",
       "1        2  Jorge Sullivan  [90, 31, 72, 17, 99, 97, 21, 102, 73, 48, 88, ..."
      ]
     },
     "execution_count": 104,
     "metadata": {},
     "output_type": "execute_result"
    }
   ],
   "source": [
    "users_df.head(2)"
   ]
  },
  {
   "cell_type": "code",
   "execution_count": 101,
   "id": "992edea4-3bb8-4e3d-bf9f-ed3c9a8e2de0",
   "metadata": {},
   "outputs": [
    {
     "name": "stdout",
     "output_type": "stream",
     "text": [
      "stats.mode(history_of_genres) = ModeResult(mode=2, count=100)\n",
      "\n",
      "Now playing genres[np_genre] = 'instrumental'\n",
      "\n",
      "genres[modal_genre] = 'slow',  modal_genre_count =100\n",
      "\n",
      "n_history= 490\n"
     ]
    }
   ],
   "source": [
    "## user_id, song_id\n",
    "user_id, np_song = now_playing_song = [1, 1]\n",
    "user_history = users_df[users_df.user_id == user_id]['history'][0]\n",
    "\n",
    "np_genre = songs_df[songs_df.song_id == np_song].genre.values[0]\n",
    "\n",
    "history_of_genres = songs_df.iloc[user_history]['genre'].values\n",
    "\n",
    "n_history,*_ = history_of_genres.shape\n",
    "\n",
    "modal_genre, modal_genre_count = stats.mode(history_of_genres)\n",
    "print(f\"{stats.mode(history_of_genres) = }\")\n",
    "print()\n",
    "print(f\"Now playing {genres[np_genre] = }\")\n",
    "print()\n",
    "print(f\"{genres[modal_genre] = },  {modal_genre_count =}\")\n",
    "print()\n",
    "print(f\"{n_history= }\")\n"
   ]
  },
  {
   "cell_type": "code",
   "execution_count": 97,
   "id": "461df6ae-8903-45b7-a7dd-c65d2475f540",
   "metadata": {},
   "outputs": [
    {
     "data": {
      "text/plain": [
       "'instrumental'"
      ]
     },
     "execution_count": 97,
     "metadata": {},
     "output_type": "execute_result"
    }
   ],
   "source": [
    "genres[np_genre]"
   ]
  },
  {
   "cell_type": "code",
   "execution_count": 95,
   "id": "5dfdc3a5-1eb9-49e9-b483-159b3f0b9e87",
   "metadata": {},
   "outputs": [
    {
     "data": {
      "text/plain": [
       "'slow'"
      ]
     },
     "execution_count": 95,
     "metadata": {},
     "output_type": "execute_result"
    }
   ],
   "source": [
    "genres[modal_genre]"
   ]
  }
 ],
 "metadata": {
  "kernelspec": {
   "display_name": "Python 3 (ipykernel)",
   "language": "python",
   "name": "python3"
  },
  "language_info": {
   "codemirror_mode": {
    "name": "ipython",
    "version": 3
   },
   "file_extension": ".py",
   "mimetype": "text/x-python",
   "name": "python",
   "nbconvert_exporter": "python",
   "pygments_lexer": "ipython3",
   "version": "3.11.4"
  }
 },
 "nbformat": 4,
 "nbformat_minor": 5
}
